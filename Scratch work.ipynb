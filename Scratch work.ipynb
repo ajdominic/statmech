{
 "cells": [
  {
   "cell_type": "markdown",
   "metadata": {},
   "source": [
    "First, we will reconstruct Figure 2 entitled \"Form of the Ohmic and Debye Spectral Densities\". We will consider the Ohmic spectral desity with an exponential cut-off and the Debye spectral density given by\n",
    "\n",
    "\\begin{align*}\n",
    "    J(\\omega) = \\eta \\omega e^{-\\omega/\\omega_c} \\text{ }\\,\\,\\text{ }\\,\\,\\text{ and }\\text{ }\\,\\,\\text{ }\\,\\, J(\\omega) = \\dfrac{\\eta\\omega_c\\omega}{\\omega^2 + \\omega_c^2},\n",
    "\\end{align*}\n",
    " \n",
    "where $\\eta$ is the coupling strength between the system and the bath and $\\omega_c$ is the bath cut-off frequency."
   ]
  },
  {
   "cell_type": "code",
   "execution_count": 1,
   "metadata": {},
   "outputs": [],
   "source": [
    "import matplotlib.pyplot as plt\n",
    "import numpy as np\n",
    "%matplotlib inline\n",
    "\n",
    "# Global parameters\n",
    "# Notice that all of these parameters are given once delta is selected.\n",
    "\n",
    "delta = 1                      # coupling of the two states\n",
    "beta = 0.25/delta              # inverse of thermal energy\n",
    "omega_c = delta                # bath cut-off frequency\n",
    "varepsilon = 0                 # energy bias\n",
    "eta = delta*0.01*np.pi/2       # coupling strength between the system and the bath\n",
    "alpha = 0.1/delta              # Kondo parameter"
   ]
  },
  {
   "cell_type": "code",
   "execution_count": 2,
   "metadata": {},
   "outputs": [
    {
     "data": {
      "image/png": "[encoded data removed]",
      "text/plain": [
       "<Figure size 432x288 with 1 Axes>"
      ]
     },
     "metadata": {
      "needs_background": "light"
     },
     "output_type": "display_data"
    }
   ],
   "source": [
    "# define the spectral density functions\n",
    "omega = np.arange(0,10,0.1)\n",
    "ohmic = eta*omega*np.exp(-omega/omega_c)\n",
    "debye = eta*omega_c*omega/(omega**2+omega_c**2)\n",
    "\n",
    "# construct the plot\n",
    "plt.plot(omega/omega_c,ohmic/ohmic.max(),\"k--\")\n",
    "plt.plot(omega/omega_c,debye/debye.max(),\"k-\")\n",
    "plt.xlabel(\"$\\omega/\\omega_c$\")\n",
    "plt.ylabel(\"$J(\\omega)/J(\\omega_\\mathrm{max})$\")\n",
    "plt.legend(['Ohmic', 'Debye'])\n",
    "plt.title('Form of the Ohmic and Debye Spectral Densities')\n",
    "plt.show()"
   ]
  },
  {
   "cell_type": "markdown",
   "metadata": {},
   "source": [
    "## System Evolution\n",
    "\n",
    "We would like to evolve the system while holding the bath positions constant. We begin by writing the property from the system $\\langle \\Omega_s(t) | \\hat{\\sigma}_z | \\Omega_s(t)\\rangle$ as\n",
    "\n",
    "$$ \\langle \\Omega_s(t) | \\hat{\\sigma}_z | \\Omega_s(t)\\rangle = c_{+1}(t)c_{+1}^*(t) - c_{-1}(t)c_{-1}^*(t). $$\n",
    "\n",
    "This expression is inserted into the time-dependent Schödinger equation, \n",
    "\n",
    "$$ i \\dfrac{\\partial}{\\partial t} | \\Omega_s(s;t)\\rangle = \\left( \\hat{H}_s - \\hat{\\sigma}_z H_c(Q) \\right)| \\Omega_s(s;t)\\rangle, $$\n",
    "\n",
    "to obtain the following system of differential equations\n",
    "\n",
    "\\begin{align*}\n",
    "    i\\dfrac{dc_{+1}(t)}{dt} &= c_{+1}(t)H_c^\\prime + c_{-1}(t)\\Delta\\\\\n",
    "    i\\dfrac{dc_{-1}(t)}{dt} &= c_{+1}(t)\\Delta - c_{-1}(t)H_c^\\prime.\n",
    "\\end{align*}\n",
    "\n",
    "Notice that in the above expressions we have defined $H_c^\\prime = -H_c + \\varepsilon$. We could rewrite these equations in matrix form as \n",
    "\n",
    "\\begin{align*}\n",
    "    \\dfrac{d}{dt} \\begin{pmatrix} c_{+1}(t) \\\\ c_{-1}(t) \\end{pmatrix} \n",
    "    = -i \\begin{pmatrix} H_c^\\prime & \\Delta \\\\ \\Delta & H_c^\\prime \\end{pmatrix} \n",
    "    \\begin{pmatrix} c_{+1}(t) \\\\ c_{-1}(t) \\end{pmatrix},\n",
    "\\end{align*}\n",
    "or more compactly, \n",
    "\\begin{align*}\n",
    "    \\dfrac{d}{dt}\\vec{c} = -i \\textbf{H}\\vec{c} \n",
    "\\end{align*}\n",
    "\n",
    "As a side note, if this were the differential equation, $\\frac{dy}{dx} = ay $, we would obtain the solution $y(x) = Ce^{ax}$. In our current situation, we can expect to get something similar:\n",
    "\n",
    "\\begin{align*}\n",
    "    \\vec{c}(t+\\delta t) = e^{-i\\textbf{H} \\delta t}\\vec{c}(t)\n",
    "\\end{align*}\n",
    "\n",
    "Prior to exponentiating the Hamiltonian matrix $\\textbf{H}$, we will first diagonalize it via a coordinate rotation. We therefore introduce the orthogonal matrix \\textbf{S} which diagonalizes the Hamiltonian matrix. That is\n",
    "\\begin{align*}\n",
    "    \\textbf{S}^T \\cdot \\textbf{H} \\cdot \\textbf{S} = \\textbf{D},\n",
    "\\end{align*}\n",
    "where $\\textbf{D}$ is diagonal. We should also recall the orthogonality condition requires that\n",
    "$$\\textbf{S}^T \\cdot \\textbf{S} = \\textbf{S} \\cdot \\textbf{S}^T = I$$\n",
    "We then rotate the coordinate system by using,\n",
    "\n",
    "\\begin{align*}\n",
    "    \\textbf{S}(\\theta) = \\begin{pmatrix} \\cos(\\theta) & \\sin(\\theta) \\\\ -\\sin(\\theta) & \\cos(\\theta) \\end{pmatrix}.\n",
    "\\end{align*}\n",
    "\n",
    "We choose a value of $\\theta$ such that $\\textbf{D}$ is diagonal and obtain\n",
    "\n",
    "\\begin{align*}\n",
    "    \\cos(2\\theta) = \\dfrac{H_c^\\prime}{\\lambda} \\text{ }\\,\\,\\text{ }\\,\\,\\text{ and }\\text{ }\\,\\,\\text{ }\\,\\, \\sin(2\\theta) = \\dfrac{\\Delta}{\\lambda}.\n",
    "\\end{align*}\n",
    "\n",
    "It follows that,\n",
    "\n",
    "\\begin{align*}\n",
    "    1 = \\cos^2(2\\theta) + \\sin^2(2\\theta) = \\dfrac{(H_c^\\prime)^2 + \\Delta^2}{\\lambda^2},\n",
    "\\end{align*}\n",
    "\n",
    "i.e. $\\lambda = \\sqrt{(H_c^\\prime)^2 + \\Delta^2}$. Putting this all together shows us that\n",
    "\n",
    "\\begin{align*}\n",
    "    e^{-i\\textbf{H}\\delta t} = \\textbf{S} \\cdot e^{-i\\textbf{D}\\delta t} \\cdot \\textbf{S}^T,\n",
    "\\end{align*}\n",
    "\n",
    "and we are now able to exponentiate the matrix and compute the matrix products. Doing this shows us that\n",
    "\n",
    "\\begin{align*}\n",
    "    e^{-i\\textbf{H}\\delta t} = \n",
    "    \\begin{pmatrix}  \n",
    "        \\cos(\\lambda \\delta t) - i\\frac{H_c^\\prime}{\\lambda}\\sin(\\lambda \\delta t) & -i \\frac{\\Delta}{\\lambda}\\sin(\\lambda \\delta t)\\\\\n",
    "        -i \\frac{\\Delta}{\\lambda}\\sin(\\lambda \\delta t) & \\cos(\\lambda \\delta t) + i\\frac{H_c^\\prime}{\\lambda}\\sin(\\lambda \\delta t)\n",
    "    \\end{pmatrix}\n",
    "\\end{align*}\n",
    "\n",
    "We can now insert this exponentiated matrix into our solution to the differential equation to give the evolution equations for the coefficients for a given bath configuration:\n",
    "\n",
    "\\begin{align*}\n",
    "    c_{+1}(t+\\delta t) &= \\left( \\cos(\\lambda \\delta t) - i \\dfrac{H_c^\\prime}{\\lambda} \\right)c_{+1}(t) - i \\dfrac{\\Delta}{\\lambda} \\sin(\\lambda \\delta t)c_{-1}(t)\\\\\n",
    "    c_{-1}(t+\\delta t) &= \\left( \\cos(\\lambda \\delta t) + i \\dfrac{H_c^\\prime}{\\lambda} \\right)c_{-1}(t) - i \\dfrac{\\Delta}{\\lambda} \\sin(\\lambda \\delta t)c_{+1}(t)\n",
    "\\end{align*}"
   ]
  },
  {
   "cell_type": "code",
   "execution_count": 3,
   "metadata": {},
   "outputs": [],
   "source": [
    "f = 5\n",
    "\n",
    "# functions that compute cj and wj\n",
    "def w(j):\n",
    "    val = -omega_c*np.log((j-0.5)/f)\n",
    "    return val\n",
    "\n",
    "def c(j):\n",
    "    val= w(j)*(2*eta*omega_c/(f*np.pi))**0.5\n",
    "    return val"
   ]
  },
  {
   "cell_type": "code",
   "execution_count": 5,
   "metadata": {},
   "outputs": [
    {
     "name": "stdout",
     "output_type": "stream",
     "text": [
      "[[-0.8618910664132173], [0.4335392919547699], [0.2596288762900326], [-0.8372720385331341], [-0.30453551974038645]]\n",
      "[[-0.8618910664132173], [0.4335392919547699], [0.2596288762900326], [-0.8372720385331341], [-0.30453551974038645]]\n",
      "[[-0.36872509393566094], [-2.131714065781782], [-1.2680158236854502], [-20.4502899774125], [-1.902353738629532]]\n",
      "[-0.021142107617566033, -0.021972860920806633, -0.001796338834461133, -0.04967792522114001, -0.00010772307318533075]\n",
      "[-4.4657594812799195e-12]\n",
      "[-0.1318051081219144]\n",
      "5\n",
      "5\n"
     ]
    }
   ],
   "source": [
    "# create a bath of harmonic oscillators (no Wigner yet)\n",
    "P = []           # momentum coordinates\n",
    "Q = []           # position coordinates\n",
    "rho_pqt = []     # density function rho(Pj,Qj;t)\n",
    "c_list = []      # coefficients\n",
    "w_list = []      # frequencies\n",
    "prodRho = []     # composite density function\n",
    "coupHam = []     # Hamiltonian for the couplings\n",
    "\n",
    "# mean of both distributions will be zero\n",
    "muP, muQ = 0.0, 0.0\n",
    "\n",
    "frequency = np.zeros(f,float)\n",
    "coupling_constants = np.zeros(f,float)\n",
    "for i in range(0,f):\n",
    "    frequency[i] = -omega_c*np.log(((j+1)-0.5)/f)\n",
    "    coupling_constants[i] = frequency[i]*(2*eta*omega_c/(f*np.pi))**0.5\n",
    "\n",
    "\n",
    "for i in range(0,f):\n",
    "    coupling_constants[i] = \n",
    "    \n",
    "\n",
    "# after a given P_j and Q_j are found, we can calculate rho(P_j, Q_j, t = 0)\n",
    "def rho(p,q,w_j):\n",
    "    H = -1*(p**2 + (q**2)*(w_j**2))*beta/2\n",
    "    val = beta*w_j/(2*np.pi)*H \n",
    "    return val\n",
    "\n",
    "# initialize all momenta and coordinates\n",
    "ctr = 1\n",
    "while(ctr<f+1):\n",
    "    w_j = w(ctr)\n",
    "    w_list.append(w_j)\n",
    "    \n",
    "    # stdev for P_j and Q_j\n",
    "    sigmaP = (1/beta)**0.5\n",
    "    sigmaQ = (1/(beta*(w_j**2)))**0.5\n",
    "    \n",
    "    # obtaining initial values from a gaussian distribution \n",
    "    p = np.random.normal(muP, sigmaP)\n",
    "    q = np.random.normal(muQ, sigmaQ)\n",
    "    P.append([p])\n",
    "    Q.append([q])\n",
    "    \n",
    "    c_list.append(c(ctr))\n",
    "    rho_pqt.append(rho(p,q,w_j))  # add to density function\n",
    "    ctr += 1\n",
    "    \n",
    "print(P)\n",
    "# multiply all of the elements in rho_initial together\n",
    "prodRho.append(np.prod(rho_pqt))\n",
    "\n",
    "value = 0\n",
    "for i in range (len(c_list)):\n",
    "    value += c_list[i]*Q[i][0]\n",
    "coupHam.append(value)\n",
    "    \n",
    "print(P)\n",
    "print(Q)\n",
    "print(rho_pqt)\n",
    "print(prodRho)\n",
    "print(coupHam)\n",
    "print(len(P))\n",
    "print(len(c_list))"
   ]
  },
  {
   "cell_type": "markdown",
   "metadata": {},
   "source": [
    "## Integrators for the harmonic bath\n",
    "Next, we will write code for the following position and momentum integrators:\n",
    "\n",
    "\\begin{align*}\n",
    "    Q_j(t+\\delta t/2) &= \\left( Q_j(t) + \\dfrac{c_j}{\\omega_j^2}\\langle \\Omega_s(t) | \\hat{\\sigma}_z |  \\Omega_s(t) \\rangle \\right) \\cos(\\omega_j \\delta t/2) + P_j(t) \\dfrac{\\sin\\left(\\omega_j \\delta t/2 \\right)}{\\omega_j} - \\dfrac{c_j}{\\omega_j^2}\\langle \\Omega_s(t) | \\hat{\\sigma}_z |  \\Omega_s(t) \\rangle\\\\\n",
    "    P_j(t + \\delta t/2) &= P_j(t)\\cos(\\omega_j \\delta t/2) - \\left( Q_j(t) + \\dfrac{c_j}{\\omega_j^2} \\langle \\Omega_s(t) |\\hat{\\sigma}_z| \\Omega_s(t) \\rangle\\right) \\omega_j \\sin\\left( \\omega_j \\delta t/2 \\right).\n",
    "\\end{align*}"
   ]
  },
  {
   "cell_type": "code",
   "execution_count": 6,
   "metadata": {},
   "outputs": [
    {
     "name": "stdout",
     "output_type": "stream",
     "text": [
      "[[-0.8618910664132173, -0.8373266235667709, -0.8099883090485472], [0.4335392919547699, 0.47128948882103233, 0.5086127442213887], [0.2596288762900326, 0.26681732870261526, 0.27392566237649885], [-0.8372720385331341, -0.8049182576538756, -0.7725004776370648], [-0.30453551974038645, -0.30432939034499534, -0.3041211495062376]]\n",
      "[[-0.36872509393566094, -0.4112172706453004, -0.4524115199906814], [-2.131714065781782, -2.10909163830163, -2.0845922328056705], [-1.2680158236854502, -1.2548543392113356, -1.2413354261408662], [-20.4502899774125, -20.49134500684349, -20.530780736522768], [-1.902353738629532, -1.9175753701823377, -1.9327866424733002]]\n",
      "[-0.021142107617566033, -0.021972860920806633, -0.001796338834461133, -0.04967792522114001, -0.00010772307318533075]\n",
      "[-4.4657594812799195e-12, -4.473019003849295e-12, -4.4797145912112225e-12]\n",
      "[-0.1318051081219144, -0.13267414787611387, -0.13347526902859422]\n"
     ]
    }
   ],
   "source": [
    "# time evolution of the bath\n",
    "t = 0\n",
    "dt = 0.1\n",
    "ipz = []\n",
    "ipz.append(1) # initial condition for the system\n",
    "\n",
    "# use dtTemp as a dummy variable\n",
    "# newIndex - 1 gives the last added element in the column\n",
    "\n",
    "# momentum integrator\n",
    "def incrementQP():\n",
    "    rhoVector = []\n",
    "    value = 0\n",
    "    for i in range(len(P)):\n",
    "        arg = w_list[i]*dt/2    # argument for the trig functions\n",
    "        \n",
    "        # get the previous values\n",
    "        prevP = P[i][-1]\n",
    "        prevQ = Q[i][-1]\n",
    "        \n",
    "        # compute the new ones\n",
    "        newP = prevP*np.cos(arg)-(prevQ + c_list[i]/(w_list[i]**2)*ipz[-1])*w_list[i]*np.sin(arg)\n",
    "        newQ = (prevQ + c_list[i]/(w_list[i]**2)*ipz[0])*np.cos(arg) + prevP*np.sin(arg)/w_list[i] - c_list[i]/(w_list[i]**2)*ipz[0]\n",
    "        value += c_list[i]*newQ # new coupling Hamiltonian entry\n",
    "        \n",
    "        # store them\n",
    "        P[i].append(newP)\n",
    "        Q[i].append(newQ)\n",
    "        \n",
    "        # might as well get a quick density calc\n",
    "        # tells us the distribution that we are using to draw our initial conditions\n",
    "        rhoVector.append(rho(newP,newQ,w_list[i]))\n",
    "      \n",
    "    # multiply all the new densities together\n",
    "    prodRho.append(np.prod(rhoVector))\n",
    "    coupHam.append(value)\n",
    "    \n",
    "\n",
    "incrementQP()\n",
    "incrementQP()\n",
    "print(P)\n",
    "print(Q)\n",
    "print(rho_pqt)\n",
    "print(prodRho)\n",
    "print(coupHam)"
   ]
  },
  {
   "cell_type": "code",
   "execution_count": null,
   "metadata": {},
   "outputs": [],
   "source": [
    "# initial conditions for the system are given above when inputting ipz.append(1)\n",
    "c_p1 = 1\n",
    "c_m1 = 0\n",
    "\n",
    "# cpc = c_+1* (c plus conjugate)\n",
    "\n",
    "\n",
    "\n",
    "\n",
    "ipz = []\n",
    "ipz.append(1)\n"
   ]
  },
  {
   "cell_type": "code",
   "execution_count": null,
   "metadata": {},
   "outputs": [],
   "source": [
    "# split evolution method code\n",
    "# let ipz be constant and call incrementQP()\n",
    "# take Q to be constant and evolve ipz\n",
    "# take ipz to be constant and call increment QP() again\n",
    "# repeat for as long as you want the simulation to run for\n",
    "\n",
    "# think about how long you want this to run for\n",
    "def split():\n",
    "    incrementQP()\n",
    "    incrementIPZ()\n",
    "    incrementQP()   "
   ]
  },
  {
   "cell_type": "code",
   "execution_count": 7,
   "metadata": {},
   "outputs": [
    {
     "name": "stdout",
     "output_type": "stream",
     "text": [
      "[[0], [1], [2], [3], [4]]\n",
      "[[0, 1], [1, 2], [2, 3], [3, 4], [4, 5]]\n",
      "0\n",
      "2\n",
      "5\n",
      "1\n"
     ]
    }
   ],
   "source": [
    "# two dimensional list practice\n",
    "A = []\n",
    "for i in range(5):\n",
    "    A.append([i])\n",
    "print(A)\n",
    "\n",
    "for i in range(len(A)):\n",
    "    A[i].append(i+1)\n",
    "\n",
    "print(A)\n",
    "print(A[0][0])\n",
    "print(len(A[0]))\n",
    "print(len(A))\n",
    "ipz = []\n",
    "ipz.append(1)\n",
    "B = [1]\n",
    "print(B[-1])"
   ]
  },
  {
   "cell_type": "code",
   "execution_count": 16,
   "metadata": {},
   "outputs": [
    {
     "name": "stdout",
     "output_type": "stream",
     "text": [
      "(3+6j)\n",
      "(3-6j)\n",
      "(45+0j)\n",
      "6.708203932499369\n"
     ]
    }
   ],
   "source": [
    "# complex number stuff\n",
    "c = 3+6j\n",
    "b = 1 + 1j\n",
    "print(c)\n",
    "print(np.conj(c))\n",
    "print(c*np.conj(c))\n",
    "print(np.abs(c))\n"
   ]
  },
  {
   "cell_type": "code",
   "execution_count": 18,
   "metadata": {},
   "outputs": [
    {
     "name": "stdout",
     "output_type": "stream",
     "text": [
      "(2+3j)\n"
     ]
    }
   ],
   "source": [
    "print(complex(2,3))"
   ]
  },
  {
   "cell_type": "code",
   "execution_count": null,
   "metadata": {},
   "outputs": [],
   "source": []
  }
 ],
 "metadata": {
  "kernelspec": {
   "display_name": "Python 3",
   "language": "python",
   "name": "python3"
  },
  "language_info": {
   "codemirror_mode": {
    "name": "ipython",
    "version": 3
   },
   "file_extension": ".py",
   "mimetype": "text/x-python",
   "name": "python",
   "nbconvert_exporter": "python",
   "pygments_lexer": "ipython3",
   "version": "3.8.5"
  }
 },
 "nbformat": 4,
 "nbformat_minor": 4
}
